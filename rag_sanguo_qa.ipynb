{
 "cells": [
  {
   "cell_type": "code",
   "execution_count": 2,
   "id": "b75c3f3f",
   "metadata": {},
   "outputs": [],
   "source": [
    "import glob\n",
    "import json\n",
    "import os\n",
    "\n",
    "from dotenv import load_dotenv, find_dotenv\n",
    "load_dotenv(find_dotenv())\n",
    "\n",
    "from langchain.chains import RetrievalQA\n",
    "from langchain.indexes import VectorstoreIndexCreator\n",
    "from langchain.vectorstores import DocArrayInMemorySearch\n",
    "from IPython.display import display, Markdown\n",
    "from langchain.document_loaders import JSONLoader\n",
    "from langchain_ollama import OllamaEmbeddings\n",
    "from langchain_ollama.llms import OllamaLLM\n",
    "from langchain.evaluation.qa import QAEvalChain\n",
    "\n",
    "import pandas as pd\n",
    "\n",
    "#_MODEL_NAME = \"deepseek-r1:7b\"\n",
    "_MODEL_NAME = \"qwen2.5:7b\""
   ]
  },
  {
   "cell_type": "code",
   "execution_count": 3,
   "id": "76aa6fae",
   "metadata": {},
   "outputs": [],
   "source": [
    "model = OllamaLLM(model=_MODEL_NAME, temperature=0)\n",
    "eval_chain = QAEvalChain.from_llm(model)"
   ]
  },
  {
   "cell_type": "code",
   "execution_count": 4,
   "id": "3e9b52ab",
   "metadata": {},
   "outputs": [
    {
     "data": {
      "text/plain": [
       "'《三国演义》（精校版全本）作者：罗贯中\\n \\n\\n内容简介\\n\\n\\u3000\\u3000《三国演义》由东汉末年黄巾起义末期开始描写，至西晋初期国家重归统一结束，以魏、蜀、吴三个政治、军事集团之间的形成演变，矛盾斗争为主线，最后由晋统一全国，国家重归统一。小说在广阔的社会历史背景上，展示出那个时代尖锐复杂又极具特色的政治军事冲突，在军事政治谋略方面，对后世产生了极其深远的影响。\\n\\n\\u3000\\u3000《三国演义》是中国第一部长篇章回体小说，中国小说由短篇发展至长篇的原因与说书有关。宋代讲故事的风气盛行，说书成为一种职业，说书人喜欢拿古代人物的故事作为题材来敷演，而陈寿撰、裴松之注的《三国志》里面的人物众多，以多个主人公做线索，事件纷繁，正是撰写故事的最好素材。三国故事某些零星片段原来在民间也已流传，加上说书人长期取材，内容越来越丰富，人物形象越来越饱满，最后由许多独立的故事逐渐组合而成长篇巨著。这些各自孤立的故事在社会上经过漫长时间口耳相传，最后得以加工、集合成书，成为中国第一部长篇章回体小说，这是一种了不起的集体创造，与由单一作者撰写完成的小说在形式上有所不同。《三国演义》对后来的小说相信有一定的启导作用。\\n\\n\\n第一回 宴桃园豪杰三结义 斩黄巾英雄首立功\\n\\n\\u3000\\u3000滚滚长江东逝水，浪花淘尽英雄。是非成败转头空。青山依旧在，几度夕阳红。白发渔樵江渚上，惯看秋月春风。一壶浊酒喜相逢。古今多少事，都付笑谈中。——调寄《临江仙》\\n\\n\\u3000\\u3000话说天下大势，分久必合，合久必分。周末七国分争，并入于秦。及秦灭之后，楚、汉分争，又并入于汉。汉朝自高祖斩白蛇而起义，一统天下，后来光武中兴，传至献帝，遂分为三国。推其致乱之由，殆始于桓、灵二帝。桓帝禁锢善类，崇信宦官。及桓帝崩，灵帝即位，大将军窦武、太傅陈蕃共相辅佐。时有宦官曹节等弄权，窦武、陈蕃谋诛之，机事不密，反为所害，中涓自此愈横。'"
      ]
     },
     "execution_count": 4,
     "metadata": {},
     "output_type": "execute_result"
    }
   ],
   "source": [
    "with open(\"data/sanguo.txt\") as f:\n",
    "    sanguo_content = f.read()\n",
    "\n",
    "from langchain_text_splitters import RecursiveCharacterTextSplitter\n",
    "\n",
    "text_splitter = RecursiveCharacterTextSplitter(\n",
    "    chunk_size=1000,\n",
    "    chunk_overlap=200,\n",
    "    length_function=len,\n",
    "    separators=[\"\\n\\n\", \"\\n\", \" \", \"。\", \"\"]\n",
    ")\n",
    "texts = text_splitter.split_text(sanguo_content)\n",
    "texts[0]"
   ]
  },
  {
   "cell_type": "code",
   "execution_count": 10,
   "id": "ab348aea",
   "metadata": {},
   "outputs": [
    {
     "data": {
      "text/plain": [
       "772"
      ]
     },
     "execution_count": 10,
     "metadata": {},
     "output_type": "execute_result"
    }
   ],
   "source": [
    "len(texts[0])"
   ]
  },
  {
   "cell_type": "code",
   "execution_count": 13,
   "id": "84ee3193",
   "metadata": {},
   "outputs": [
    {
     "data": {
      "text/plain": [
       "775"
      ]
     },
     "execution_count": 13,
     "metadata": {},
     "output_type": "execute_result"
    }
   ],
   "source": [
    "len(texts)"
   ]
  },
  {
   "cell_type": "code",
   "execution_count": 4,
   "id": "531d620a",
   "metadata": {},
   "outputs": [
    {
     "name": "stderr",
     "output_type": "stream",
     "text": [
      "/home/purui/test/offline_langchain_rag/.venv/lib/python3.12/site-packages/pydantic/_migration.py:283: UserWarning: `pydantic.error_wrappers:ValidationError` has been moved to `pydantic:ValidationError`.\n",
      "  warnings.warn(f'`{import_path}` has been moved to `{new_location}`.')\n"
     ]
    }
   ],
   "source": [
    "from langchain_core.documents import Document\n",
    "\n",
    "docs = [\n",
    "    Document(page_content=text, metadata={\"source\": f\"chunk-{i}\"})\n",
    "    for i, text in enumerate(texts[:10])\n",
    "]\n",
    "\n",
    "embedding_model = OllamaEmbeddings(model=_MODEL_NAME)\n",
    "vector_index = VectorstoreIndexCreator(\n",
    "    vectorstore_cls=DocArrayInMemorySearch,\n",
    "    embedding=embedding_model,\n",
    ").from_documents(docs)"
   ]
  },
  {
   "cell_type": "code",
   "execution_count": 5,
   "id": "a5b21e62",
   "metadata": {},
   "outputs": [
    {
     "data": {
      "text/plain": [
       "[Document(metadata={'source': 'chunk-9'}, page_content='朱儁大喜，便令坚攻打南门，玄德打北门，朱儁打西门，留东门与贼走。孙坚首先登城，斩贼二十余人，贼众奔溃。赵弘飞马突槊，直取孙坚。坚从城上飞身夺弘槊，刺弘下马；却骑弘马，飞身往来杀贼。孙仲引贼突出北门，正迎玄德，无心恋战，只待奔逃。玄德张弓一箭，正中孙仲，翻身落马。朱儁大军随后掩杀，斩首数万级，降者不可胜计。南阳一路，十数郡皆平。\\n\\n\\u3000\\u3000儁班师回京，诏封为车骑将军，河南尹。儁表奏孙坚、刘备等功。坚有人情，除别郡司马上任去了。惟玄德听候日久，不得除授，三人郁郁不乐，上街闲行，正值郎中张钧车到。玄德见之，自陈功绩。钧大惊，随入朝见帝曰：“昔黄巾造反，其原皆由十常侍卖官鬻爵，非亲不用，非仇不诛，以致天下大乱。今宜斩十常侍，悬首南郊，遣使者布告天下，有功者重加赏赐，则四海自清平也。”十常侍奏帝曰：“张钧欺主。”帝令武士逐出张钧。十常侍共议：“此必破黄巾有功者，不得除授，故生怨言。权且教省家铨注微名，待后却再理会未晚。”因此玄德除授定州中山府安喜县尉，克日赴任。\\n\\n\\u3000\\u3000玄德将兵散回乡里，止带亲随二十余人，与关、张来安喜县中到任。署县事一月，与民秋毫无犯，民皆感化。到任之后，与关、张食则同桌，寝则同床。如玄德在稠人广坐，关、张侍立，终日不倦。\\n\\n\\u3000\\u3000到县未及四月，朝廷降诏，凡有军功为长吏者当沙汰。玄德疑在遣中。适督邮行部至县，玄德出郭迎接，见督邮施礼。督邮坐于马上，惟微以鞭指回答。关、张二公俱怒。及到馆驿，督邮南面高坐，玄德侍立阶下。良久，督邮问曰：“刘县尉是何出身？”玄德曰：“备乃中山靖王之后；自涿郡剿戮黄巾，大小三十余战，颇有微功，因得除今职。”督邮大喝曰：“汝诈称皇亲，虚报功绩！目今朝廷降诏，正要沙汰这等滥官污吏！”玄德喏喏连声而退。归到县中，与县吏商议。吏曰：“督邮作威，无非要贿赂耳。”玄德曰：“我与民秋毫无犯，那得财物与他？”次日，督邮先提县吏去，勒令指称县尉害民。玄德几番自往求免，俱被门役阻住，不肯放参。'),\n",
       " Document(metadata={'source': 'chunk-5'}, page_content='杀到天明，张梁、张宝引败残军士，夺路而走。忽见一彪军马，尽打红旗，当头来到，截住去路。为首闪出一将，身长七尺，细眼长髯，官拜骑都尉，沛国谯郡人也，姓曹名操字孟德。\\n\\n\\u3000\\u3000操父曹嵩，本姓夏侯氏，因为中常侍曹腾之养子，故冒姓曹。曹嵩生操，小字阿瞒，一名吉利。操幼时，好游猎，喜歌舞，有权谋，多机变。操有叔父，见操游荡无度，尝怒之，言于曹嵩。嵩责操。操忽心生一计，见叔父来，诈倒于地，作中风之状。叔父惊告嵩，嵩急视之。操故无恙。嵩曰：“叔言汝中风，今已愈乎？”操曰：“儿自来无此病；因失爱于叔父，故见罔耳。”嵩信其言。后叔父但言操过，嵩并不听。因此，操得恣意放荡。时人有桥玄者，谓操曰：“天下将乱，非命世之才不能济。能安之者，其在君乎？”南阳何顒见操，言：“汉室将亡，安天下者，必此人也。”汝南许劭，有知人之名。操往见之，问曰：“我何如人？”劭不答。又问，劭曰：“子治世之能臣，乱世之奸雄也。”操闻言大喜。年二十，举孝廉，为郎，除洛阳北部尉。初到任，即设五色棒十余条于县之四门，有犯禁者，不避豪贵，皆责之。中常侍蹇硕之叔，提刀夜行，操巡夜拿住，就棒责之。由是，内外莫敢犯者，威名颇震。\\n\\n\\u3000\\u3000后为顿丘令，因黄巾起，拜为骑都尉，引马步军五千，前来颍川助战。正值张梁、张宝败走，曹操拦住，大杀一阵，斩首万余级，夺得旗幡、金鼓、马匹极多。张梁、张宝死战得脱。操见过皇甫嵩、朱儁，随即引兵追袭张梁、张宝去了。'),\n",
       " Document(metadata={'source': 'chunk-3'}, page_content='正饮间，见一大汉，推着一辆车子，到店门首歇了，入店坐下，便唤酒保：“快斟酒来吃，我待赶入城去投军。”玄德看其人：身长九尺，髯长二尺；面如重枣，唇若涂脂；丹凤眼，卧蚕眉，相貌堂堂，威风凛凛。玄德就邀他同坐，叩其姓名。其人曰：“吾姓关名羽，字长生，后改云长，河东解良人也。因本处势豪倚势凌人，被吾杀了，逃难江湖，五六年矣。今闻此处招军破贼，特来应募。”玄德遂以己志告之，云长大喜。同到张飞庄上，共议大事。飞曰：“吾庄后有一桃园，花开正盛；明日当于园中祭告天地，我三人结为兄弟，协力同心，然后可图大事。”玄德、云长齐声应曰：“如此甚好。”\\n\\n\\u3000\\u3000次日，于桃园中，备下乌牛白马祭礼等项，三人焚香再拜而说誓曰：“念刘备、关羽、张飞，虽然异姓，既结为兄弟，则同心协力，救困扶危；上报国家，下安黎庶。不求同年同月同日生，只愿同年同月同日死。皇天后土，实鉴此心，背义忘恩，天人共戮！”誓毕，拜玄德为兄，关羽次之，张飞为弟。祭罢天地，复宰牛设酒，聚乡中勇士，得三百余人，就桃园中痛饮一醉。来日收拾军器，但恨无马匹可乘。正思虑间，人报有两个客人，引一伙伴当，赶一群马，投庄上来。玄德曰：“此天佑我也！”三人出庄迎接。原来二客乃中山大商：一名张世平，一名苏双，每年往北贩马，近因寇发而回。玄德请二人到庄，置酒管待，诉说欲讨贼安民之意。二客大喜，愿将良马五十匹相送；又赠金银五百两，镔铁一千斤，以资器用。\\n\\n\\u3000\\u3000玄德谢别二客，便命良匠打造双股剑。云长造青龙偃月刀，又名“冷艳锯”，重八十二斤。张飞造丈八点钢矛。各置全身铠甲。共聚乡勇五百余人，来见邹靖。邹靖引见太守刘焉。三人参见毕，各通姓名。玄德说起宗派，刘焉大喜，遂认玄德为侄。不数日，人报黄巾贼将程远志统兵五万来犯涿郡。刘焉令邹靖引玄德等三人，统兵五百，前去破敌。玄德等欣然领军前进，直至大兴山下，与贼相见。贼众皆披发，以黄巾抹额。当下两军相对，玄德出马，左有云长，右有翼德，扬鞭大骂：“反国逆贼，何不早降！”程远志大怒，遣副将邓茂出战。张飞挺丈八蛇矛直出，手起处，刺中邓茂心窝，翻身落马。程远志见折了邓茂，拍马舞刀，直取张飞。云长舞动大刀，纵马飞迎。程远志见了，早吃一惊，措手不及，被云长刀起处，挥为两段。后人有诗赞二人曰：\\n\\n\\u3000\\u3000英雄露颖在今朝，一试矛兮一试刀。初出便将威力展，三分好把姓名标。')]"
      ]
     },
     "execution_count": 5,
     "metadata": {},
     "output_type": "execute_result"
    }
   ],
   "source": [
    "vector_index.vectorstore.similarity_search(\"张角\", k=3)"
   ]
  },
  {
   "cell_type": "code",
   "execution_count": 6,
   "id": "57dd10b0",
   "metadata": {},
   "outputs": [
    {
     "name": "stderr",
     "output_type": "stream",
     "text": [
      "/home/purui/test/offline_langchain_rag/.venv/lib/python3.12/site-packages/langchain/chains/llm.py:369: UserWarning: The apply_and_parse method is deprecated, instead pass an output parser directly to LLMChain.\n",
      "  warnings.warn(\n"
     ]
    }
   ],
   "source": [
    "from langchain.evaluation.qa import QAGenerateChain\n",
    "example_gen_chain = QAGenerateChain.from_llm(model)\n",
    "examples = example_gen_chain.apply_and_parse(\n",
    "    [{\"doc\": t} for t in docs[:3]]\n",
    ")"
   ]
  },
  {
   "cell_type": "code",
   "execution_count": 7,
   "id": "74c230bc",
   "metadata": {},
   "outputs": [
    {
     "data": {
      "text/plain": [
       "3"
      ]
     },
     "execution_count": 7,
     "metadata": {},
     "output_type": "execute_result"
    }
   ],
   "source": [
    "len(examples)"
   ]
  },
  {
   "cell_type": "code",
   "execution_count": 9,
   "id": "0c55e405",
   "metadata": {},
   "outputs": [
    {
     "name": "stdout",
     "output_type": "stream",
     "text": [
      "{'qa_pairs': {'query': '《三国演义》的作者是谁？', 'answer': '罗贯中。'}}\n",
      "{'qa_pairs': {'query': \"According to the document, what significant event happened on April 15th of the second year of Jianning during Emperor's reign?\", 'answer': 'On April 15th of the second year of Jianning, a large green snake suddenly flew down from the ceiling and coiled itself on the throne while the emperor was about to sit in his seat. This event caused the emperor to faint, and all officials fled in panic.'}}\n",
      "{'qa_pairs': {'query': '张角、张宝和张梁分别自称为哪位“将军”？', 'answer': '张角自称“天公将军”，张宝称“地公将军”，张梁称“人公将军”。'}}\n"
     ]
    }
   ],
   "source": [
    "for e in examples:\n",
    "    print(e)"
   ]
  },
  {
   "cell_type": "code",
   "execution_count": 13,
   "id": "dc5d9546",
   "metadata": {},
   "outputs": [
    {
     "data": {
      "text/plain": [
       "[{'results': 'CORRECT'}, {'results': 'GRADE: CORRECT'}, {'results': 'CORRECT'}]"
      ]
     },
     "execution_count": 13,
     "metadata": {},
     "output_type": "execute_result"
    }
   ],
   "source": [
    "example_data = [qa['qa_pairs'] for qa in examples]\n",
    "eval_chain.evaluate(example_data, example_data,\n",
    "                    question_key=\"query\",\n",
    "                    answer_key=\"answer\",\n",
    "                    prediction_key=\"answer\",)"
   ]
  },
  {
   "cell_type": "code",
   "execution_count": 21,
   "id": "aee09cb3",
   "metadata": {},
   "outputs": [
    {
     "data": {
      "text/plain": [
       "[{'results': 'GRADE: INCORRECT\\n\\nExplanation: The student\\'s answer \"张益德\" is not factually accurate according to the true answer, which states that \"张飞也叫张益德,\" meaning Zhang Fei is also known as Zhang Yi De. Therefore, while Zhang Yi De is a correct alias for Zhang Fei, the question specifically asks for who刘备的三弟是谁 (Rúdài de sān dì shì shéi), which should be answered with \"张飞\" (Zhang Fei).'}]"
      ]
     },
     "execution_count": 21,
     "metadata": {},
     "output_type": "execute_result"
    }
   ],
   "source": [
    "eval_chain.evaluate(\n",
    "    [\n",
    "        {\n",
    "            \"query\": \"刘备的三弟是谁？张飞也叫张益德\",\n",
    "            \"answer\": \"张飞\",\n",
    "        }\n",
    "    ],\n",
    "    [\n",
    "        {\n",
    "            #\"query\": \"刘备的三弟是谁？\",\n",
    "            \"answer\": \"张益德\",\n",
    "        }\n",
    "    ],\n",
    "    question_key=\"query\",\n",
    "    answer_key=\"answer\",\n",
    "    prediction_key=\"answer\",\n",
    ")"
   ]
  },
  {
   "cell_type": "code",
   "execution_count": 5,
   "id": "520c17ee",
   "metadata": {},
   "outputs": [
    {
     "name": "stderr",
     "output_type": "stream",
     "text": [
      "/tmp/ipykernel_362804/1329972537.py:1: LangChainDeprecationWarning: The method `BaseLLM.__call__` was deprecated in langchain-core 0.1.7 and will be removed in 1.0. Use :meth:`~invoke` instead.\n",
      "  result = model(\"刘备的三弟是谁？\")\n"
     ]
    },
    {
     "data": {
      "text/plain": [
       "'刘备的三弟是刘封。在《三国演义》中，刘封是刘备的养子，本名关平，字云长之子，因战功被刘备收为养子，并封为立义侯，故改名为刘封。他在刘备集团中有一定的地位和军事才能，在攻打东吴时不幸战死。'"
      ]
     },
     "execution_count": 5,
     "metadata": {},
     "output_type": "execute_result"
    }
   ],
   "source": [
    "result = model(\"刘备的三弟是谁？\")\n",
    "result"
   ]
  },
  {
   "cell_type": "code",
   "execution_count": 6,
   "id": "9869efcb",
   "metadata": {},
   "outputs": [
    {
     "data": {
      "text/plain": [
       "'刘备的结义兄弟中，排行第三的是关羽。在《三国演义》中，刘备、关羽和张飞是在桃园中结为异姓兄弟，其中刘备居长，关羽次之，张飞排第三。不过需要注意的是，在正史《三国志》中并没有关于桃园结义的记载，这一情节更多是后世文学作品中的虚构内容。'"
      ]
     },
     "execution_count": 6,
     "metadata": {},
     "output_type": "execute_result"
    }
   ],
   "source": [
    "model(\"刘备的结义兄弟中，排行第三的是谁？\")"
   ]
  },
  {
   "cell_type": "code",
   "execution_count": 24,
   "id": "749bb191",
   "metadata": {},
   "outputs": [
    {
     "name": "stdout",
     "output_type": "stream",
     "text": [
      "Help on class SemanticChunker in module langchain_experimental.text_splitter:\n",
      "\n",
      "class SemanticChunker(langchain_core.documents.transformers.BaseDocumentTransformer)\n",
      " |  SemanticChunker(embeddings: langchain_core.embeddings.embeddings.Embeddings, buffer_size: int = 1, add_start_index: bool = False, breakpoint_threshold_type: Literal['percentile', 'standard_deviation', 'interquartile', 'gradient'] = 'percentile', breakpoint_threshold_amount: Optional[float] = None, number_of_chunks: Optional[int] = None, sentence_split_regex: str = '(?<=[.?!])\\\\s+', min_chunk_size: Optional[int] = None)\n",
      " |\n",
      " |  Split the text based on semantic similarity.\n",
      " |\n",
      " |  Taken from Greg Kamradt's wonderful notebook:\n",
      " |  https://github.com/FullStackRetrieval-com/RetrievalTutorials/blob/main/tutorials/LevelsOfTextSplitting/5_Levels_Of_Text_Splitting.ipynb\n",
      " |\n",
      " |  All credits to him.\n",
      " |\n",
      " |  At a high level, this splits into sentences, then groups into groups of 3\n",
      " |  sentences, and then merges one that are similar in the embedding space.\n",
      " |\n",
      " |  Method resolution order:\n",
      " |      SemanticChunker\n",
      " |      langchain_core.documents.transformers.BaseDocumentTransformer\n",
      " |      abc.ABC\n",
      " |      builtins.object\n",
      " |\n",
      " |  Methods defined here:\n",
      " |\n",
      " |  __init__(self, embeddings: langchain_core.embeddings.embeddings.Embeddings, buffer_size: int = 1, add_start_index: bool = False, breakpoint_threshold_type: Literal['percentile', 'standard_deviation', 'interquartile', 'gradient'] = 'percentile', breakpoint_threshold_amount: Optional[float] = None, number_of_chunks: Optional[int] = None, sentence_split_regex: str = '(?<=[.?!])\\\\s+', min_chunk_size: Optional[int] = None)\n",
      " |      Initialize self.  See help(type(self)) for accurate signature.\n",
      " |\n",
      " |  create_documents(self, texts: List[str], metadatas: Optional[List[dict]] = None) -> List[langchain_core.documents.base.Document]\n",
      " |      Create documents from a list of texts.\n",
      " |\n",
      " |  split_documents(self, documents: Iterable[langchain_core.documents.base.Document]) -> List[langchain_core.documents.base.Document]\n",
      " |      Split documents.\n",
      " |\n",
      " |  split_text(self, text: str) -> List[str]\n",
      " |\n",
      " |  transform_documents(self, documents: Sequence[langchain_core.documents.base.Document], **kwargs: Any) -> Sequence[langchain_core.documents.base.Document]\n",
      " |      Transform sequence of documents by splitting them.\n",
      " |\n",
      " |  ----------------------------------------------------------------------\n",
      " |  Data and other attributes defined here:\n",
      " |\n",
      " |  __abstractmethods__ = frozenset()\n",
      " |\n",
      " |  __annotations__ = {}\n",
      " |\n",
      " |  ----------------------------------------------------------------------\n",
      " |  Methods inherited from langchain_core.documents.transformers.BaseDocumentTransformer:\n",
      " |\n",
      " |  async atransform_documents(self, documents: 'Sequence[Document]', **kwargs: 'Any') -> 'Sequence[Document]'\n",
      " |      Asynchronously transform a list of documents.\n",
      " |\n",
      " |      Args:\n",
      " |          documents: A sequence of Documents to be transformed.\n",
      " |\n",
      " |      Returns:\n",
      " |          A sequence of transformed Documents.\n",
      " |\n",
      " |  ----------------------------------------------------------------------\n",
      " |  Data descriptors inherited from langchain_core.documents.transformers.BaseDocumentTransformer:\n",
      " |\n",
      " |  __dict__\n",
      " |      dictionary for instance variables\n",
      " |\n",
      " |  __weakref__\n",
      " |      list of weak references to the object\n",
      "\n"
     ]
    }
   ],
   "source": [
    "from langchain_experimental.text_splitter import SemanticChunker\n",
    "\n",
    "help(SemanticChunker)"
   ]
  },
  {
   "cell_type": "code",
   "execution_count": 26,
   "id": "01e4e71d",
   "metadata": {},
   "outputs": [
    {
     "name": "stdout",
     "output_type": "stream",
     "text": [
      "1\n",
      "606381\n"
     ]
    }
   ],
   "source": [
    "semantic_chunker = SemanticChunker(embeddings=embedding_model)\n",
    "texts = semantic_chunker.split_text(sanguo_content)\n",
    "print(len(texts))\n",
    "print(len(texts[0]))"
   ]
  }
 ],
 "metadata": {
  "kernelspec": {
   "display_name": ".venv",
   "language": "python",
   "name": "python3"
  },
  "language_info": {
   "codemirror_mode": {
    "name": "ipython",
    "version": 3
   },
   "file_extension": ".py",
   "mimetype": "text/x-python",
   "name": "python",
   "nbconvert_exporter": "python",
   "pygments_lexer": "ipython3",
   "version": "3.12.10"
  }
 },
 "nbformat": 4,
 "nbformat_minor": 5
}
